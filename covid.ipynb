{
 "cells": [
  {
   "cell_type": "code",
   "execution_count": 1,
   "metadata": {},
   "outputs": [],
   "source": [
    "import pandas as pd\n",
    "import numpy as numpy\n",
    "import matplotlib.pyplot as plt\n",
    "import seaborn as sns"
   ]
  },
  {
   "cell_type": "code",
   "execution_count": 2,
   "metadata": {},
   "outputs": [],
   "source": [
    "df = pd.read_excel(r'D:\\pythontest\\confirmed-cases-since-120864.xlsx')\n",
    "df = pd.DataFrame(df)"
   ]
  },
  {
   "cell_type": "code",
   "execution_count": 3,
   "metadata": {},
   "outputs": [
    {
     "data": {
      "text/html": [
       "<div>\n",
       "<style scoped>\n",
       "    .dataframe tbody tr th:only-of-type {\n",
       "        vertical-align: middle;\n",
       "    }\n",
       "\n",
       "    .dataframe tbody tr th {\n",
       "        vertical-align: top;\n",
       "    }\n",
       "\n",
       "    .dataframe thead th {\n",
       "        text-align: right;\n",
       "    }\n",
       "</style>\n",
       "<table border=\"1\" class=\"dataframe\">\n",
       "  <thead>\n",
       "    <tr style=\"text-align: right;\">\n",
       "      <th></th>\n",
       "      <th>No.</th>\n",
       "      <th>announce_date</th>\n",
       "      <th>Notified date</th>\n",
       "      <th>sex</th>\n",
       "      <th>age</th>\n",
       "      <th>Unit</th>\n",
       "      <th>nationality</th>\n",
       "      <th>province_of_isolation</th>\n",
       "      <th>risk</th>\n",
       "      <th>province_of_onset</th>\n",
       "      <th>district_of_onset</th>\n",
       "    </tr>\n",
       "  </thead>\n",
       "  <tbody>\n",
       "    <tr>\n",
       "      <th>0</th>\n",
       "      <td>816990</td>\n",
       "      <td>2021-08-12</td>\n",
       "      <td>2021-08-11</td>\n",
       "      <td>ชาย</td>\n",
       "      <td>7.0</td>\n",
       "      <td>ปี</td>\n",
       "      <td>Thailand</td>\n",
       "      <td>เชียงราย</td>\n",
       "      <td>อื่นๆ</td>\n",
       "      <td>NaN</td>\n",
       "      <td>NaN</td>\n",
       "    </tr>\n",
       "    <tr>\n",
       "      <th>1</th>\n",
       "      <td>816991</td>\n",
       "      <td>2021-08-12</td>\n",
       "      <td>2021-08-11</td>\n",
       "      <td>ชาย</td>\n",
       "      <td>1.0</td>\n",
       "      <td>ปี</td>\n",
       "      <td>Thailand</td>\n",
       "      <td>เชียงราย</td>\n",
       "      <td>อื่นๆ</td>\n",
       "      <td>NaN</td>\n",
       "      <td>NaN</td>\n",
       "    </tr>\n",
       "    <tr>\n",
       "      <th>2</th>\n",
       "      <td>816992</td>\n",
       "      <td>2021-08-12</td>\n",
       "      <td>2021-08-11</td>\n",
       "      <td>ชาย</td>\n",
       "      <td>35.0</td>\n",
       "      <td>ปี</td>\n",
       "      <td>Thailand</td>\n",
       "      <td>เชียงราย</td>\n",
       "      <td>อื่นๆ</td>\n",
       "      <td>NaN</td>\n",
       "      <td>NaN</td>\n",
       "    </tr>\n",
       "    <tr>\n",
       "      <th>3</th>\n",
       "      <td>816993</td>\n",
       "      <td>2021-08-12</td>\n",
       "      <td>2021-08-11</td>\n",
       "      <td>หญิง</td>\n",
       "      <td>33.0</td>\n",
       "      <td>ปี</td>\n",
       "      <td>Thailand</td>\n",
       "      <td>เชียงราย</td>\n",
       "      <td>อื่นๆ</td>\n",
       "      <td>NaN</td>\n",
       "      <td>NaN</td>\n",
       "    </tr>\n",
       "    <tr>\n",
       "      <th>4</th>\n",
       "      <td>816994</td>\n",
       "      <td>2021-08-12</td>\n",
       "      <td>2021-08-11</td>\n",
       "      <td>หญิง</td>\n",
       "      <td>14.0</td>\n",
       "      <td>ปี</td>\n",
       "      <td>Thailand</td>\n",
       "      <td>เชียงราย</td>\n",
       "      <td>สัมผัสใกล้ชิดกับผู้ป่วยยืนยันรายก่อนหน้านี้</td>\n",
       "      <td>NaN</td>\n",
       "      <td>NaN</td>\n",
       "    </tr>\n",
       "  </tbody>\n",
       "</table>\n",
       "</div>"
      ],
      "text/plain": [
       "      No. announce_date Notified date   sex   age Unit nationality  \\\n",
       "0  816990    2021-08-12    2021-08-11   ชาย   7.0   ปี    Thailand   \n",
       "1  816991    2021-08-12    2021-08-11   ชาย   1.0   ปี    Thailand   \n",
       "2  816992    2021-08-12    2021-08-11   ชาย  35.0   ปี    Thailand   \n",
       "3  816993    2021-08-12    2021-08-11  หญิง  33.0   ปี    Thailand   \n",
       "4  816994    2021-08-12    2021-08-11  หญิง  14.0   ปี    Thailand   \n",
       "\n",
       "  province_of_isolation                                         risk  \\\n",
       "0              เชียงราย                                        อื่นๆ   \n",
       "1              เชียงราย                                        อื่นๆ   \n",
       "2              เชียงราย                                        อื่นๆ   \n",
       "3              เชียงราย                                        อื่นๆ   \n",
       "4              เชียงราย  สัมผัสใกล้ชิดกับผู้ป่วยยืนยันรายก่อนหน้านี้   \n",
       "\n",
       "  province_of_onset district_of_onset  \n",
       "0               NaN               NaN  \n",
       "1               NaN               NaN  \n",
       "2               NaN               NaN  \n",
       "3               NaN               NaN  \n",
       "4               NaN               NaN  "
      ]
     },
     "execution_count": 3,
     "metadata": {},
     "output_type": "execute_result"
    }
   ],
   "source": [
    "df.head()"
   ]
  },
  {
   "cell_type": "code",
   "execution_count": 16,
   "metadata": {},
   "outputs": [
    {
     "data": {
      "text/html": [
       "<div>\n",
       "<style scoped>\n",
       "    .dataframe tbody tr th:only-of-type {\n",
       "        vertical-align: middle;\n",
       "    }\n",
       "\n",
       "    .dataframe tbody tr th {\n",
       "        vertical-align: top;\n",
       "    }\n",
       "\n",
       "    .dataframe thead th {\n",
       "        text-align: right;\n",
       "    }\n",
       "</style>\n",
       "<table border=\"1\" class=\"dataframe\">\n",
       "  <thead>\n",
       "    <tr style=\"text-align: right;\">\n",
       "      <th></th>\n",
       "      <th>age</th>\n",
       "    </tr>\n",
       "  </thead>\n",
       "  <tbody>\n",
       "    <tr>\n",
       "      <th>count</th>\n",
       "      <td>962171.000000</td>\n",
       "    </tr>\n",
       "    <tr>\n",
       "      <th>mean</th>\n",
       "      <td>35.258596</td>\n",
       "    </tr>\n",
       "    <tr>\n",
       "      <th>std</th>\n",
       "      <td>18.532412</td>\n",
       "    </tr>\n",
       "    <tr>\n",
       "      <th>min</th>\n",
       "      <td>0.130000</td>\n",
       "    </tr>\n",
       "    <tr>\n",
       "      <th>25%</th>\n",
       "      <td>22.000000</td>\n",
       "    </tr>\n",
       "    <tr>\n",
       "      <th>50%</th>\n",
       "      <td>34.000000</td>\n",
       "    </tr>\n",
       "    <tr>\n",
       "      <th>75%</th>\n",
       "      <td>48.000000</td>\n",
       "    </tr>\n",
       "    <tr>\n",
       "      <th>max</th>\n",
       "      <td>119.000000</td>\n",
       "    </tr>\n",
       "  </tbody>\n",
       "</table>\n",
       "</div>"
      ],
      "text/plain": [
       "                 age\n",
       "count  962171.000000\n",
       "mean       35.258596\n",
       "std        18.532412\n",
       "min         0.130000\n",
       "25%        22.000000\n",
       "50%        34.000000\n",
       "75%        48.000000\n",
       "max       119.000000"
      ]
     },
     "execution_count": 16,
     "metadata": {},
     "output_type": "execute_result"
    }
   ],
   "source": [
    "df.describe()"
   ]
  },
  {
   "cell_type": "markdown",
   "metadata": {},
   "source": [
    "drop column"
   ]
  },
  {
   "cell_type": "code",
   "execution_count": 12,
   "metadata": {},
   "outputs": [],
   "source": [
    "df = df.drop(['No.','announce_date','Notified date','Unit','nationality','province_of_isolation','risk','province_of_onset','district_of_onset'],axis=1)"
   ]
  },
  {
   "cell_type": "code",
   "execution_count": 13,
   "metadata": {},
   "outputs": [
    {
     "data": {
      "text/html": [
       "<div>\n",
       "<style scoped>\n",
       "    .dataframe tbody tr th:only-of-type {\n",
       "        vertical-align: middle;\n",
       "    }\n",
       "\n",
       "    .dataframe tbody tr th {\n",
       "        vertical-align: top;\n",
       "    }\n",
       "\n",
       "    .dataframe thead th {\n",
       "        text-align: right;\n",
       "    }\n",
       "</style>\n",
       "<table border=\"1\" class=\"dataframe\">\n",
       "  <thead>\n",
       "    <tr style=\"text-align: right;\">\n",
       "      <th></th>\n",
       "      <th>sex</th>\n",
       "      <th>age</th>\n",
       "    </tr>\n",
       "  </thead>\n",
       "  <tbody>\n",
       "    <tr>\n",
       "      <th>0</th>\n",
       "      <td>ชาย</td>\n",
       "      <td>7.0</td>\n",
       "    </tr>\n",
       "    <tr>\n",
       "      <th>1</th>\n",
       "      <td>ชาย</td>\n",
       "      <td>1.0</td>\n",
       "    </tr>\n",
       "    <tr>\n",
       "      <th>2</th>\n",
       "      <td>ชาย</td>\n",
       "      <td>35.0</td>\n",
       "    </tr>\n",
       "    <tr>\n",
       "      <th>3</th>\n",
       "      <td>หญิง</td>\n",
       "      <td>33.0</td>\n",
       "    </tr>\n",
       "    <tr>\n",
       "      <th>4</th>\n",
       "      <td>หญิง</td>\n",
       "      <td>14.0</td>\n",
       "    </tr>\n",
       "  </tbody>\n",
       "</table>\n",
       "</div>"
      ],
      "text/plain": [
       "    sex   age\n",
       "0   ชาย   7.0\n",
       "1   ชาย   1.0\n",
       "2   ชาย  35.0\n",
       "3  หญิง  33.0\n",
       "4  หญิง  14.0"
      ]
     },
     "execution_count": 13,
     "metadata": {},
     "output_type": "execute_result"
    }
   ],
   "source": [
    "df.head()"
   ]
  },
  {
   "cell_type": "code",
   "execution_count": 15,
   "metadata": {},
   "outputs": [
    {
     "name": "stdout",
     "output_type": "stream",
     "text": [
      "The number of male is =  478004\n",
      "The number of female is =  516452\n"
     ]
    }
   ],
   "source": [
    "count_male = 0\n",
    "count_female = 0\n",
    "for gender in (df['sex']):\n",
    "    if gender == 'ชาย':\n",
    "        count_male+=1\n",
    "    \n",
    "    elif gender == 'หญิง':\n",
    "        count_female+=1\n",
    "        \n",
    "print(\"The number of male is = \",count_male)\n",
    "print(\"The number of female is = \",count_female)"
   ]
  },
  {
   "cell_type": "code",
   "execution_count": 17,
   "metadata": {},
   "outputs": [
    {
     "data": {
      "text/plain": [
       "47705"
      ]
     },
     "execution_count": 17,
     "metadata": {},
     "output_type": "execute_result"
    }
   ],
   "source": [
    "df['sex'].isnull().sum()"
   ]
  },
  {
   "cell_type": "code",
   "execution_count": null,
   "metadata": {},
   "outputs": [],
   "source": []
  }
 ],
 "metadata": {
  "kernelspec": {
   "display_name": ".venv",
   "language": "python",
   "name": "python3"
  },
  "language_info": {
   "codemirror_mode": {
    "name": "ipython",
    "version": 3
   },
   "file_extension": ".py",
   "mimetype": "text/x-python",
   "name": "python",
   "nbconvert_exporter": "python",
   "pygments_lexer": "ipython3",
   "version": "3.11.3"
  }
 },
 "nbformat": 4,
 "nbformat_minor": 2
}
