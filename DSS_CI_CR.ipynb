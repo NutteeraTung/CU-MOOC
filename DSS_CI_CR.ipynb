{
 "cells": [
  {
   "cell_type": "code",
   "execution_count": 1,
   "metadata": {},
   "outputs": [],
   "source": [
    "import numpy as np\n"
   ]
  },
  {
   "cell_type": "markdown",
   "metadata": {},
   "source": [
    "CI calculation"
   ]
  },
  {
   "cell_type": "markdown",
   "metadata": {},
   "source": [
    "C.I. = (lambdamax - n) / (n - 1)"
   ]
  },
  {
   "cell_type": "code",
   "execution_count": 3,
   "metadata": {},
   "outputs": [],
   "source": [
    "rating_plan = np.array([[1, 4, 5],\n",
    "                        [0.25, 1, 1],\n",
    "                        [0.20, 1, 1]])\n",
    "avg_row = np.array([0.69, 0.16, 0.15]).T\n"
   ]
  },
  {
   "cell_type": "code",
   "execution_count": 4,
   "metadata": {},
   "outputs": [
    {
     "name": "stdout",
     "output_type": "stream",
     "text": [
      "[2.08   0.4825 0.448 ]\n"
     ]
    }
   ],
   "source": [
    "weight_mat = np.dot(rating_plan,avg_row)\n",
    "print(weight_mat)"
   ]
  },
  {
   "cell_type": "code",
   "execution_count": 8,
   "metadata": {},
   "outputs": [
    {
     "name": "stdout",
     "output_type": "stream",
     "text": [
      "[3.01449275 3.015625   2.98666667]\n"
     ]
    }
   ],
   "source": [
    "lambda_max = np.divide(weight_mat,avg_row)\n",
    "# lambda_max = np.average(lambda_max)\n",
    "# print('%.4f' %(lambda_max))\n",
    "print(lambda_max)"
   ]
  },
  {
   "cell_type": "code",
   "execution_count": 6,
   "metadata": {},
   "outputs": [
    {
     "name": "stdout",
     "output_type": "stream",
     "text": [
      "0.0027974033816426935\n"
     ]
    }
   ],
   "source": [
    "ci = (lambda_max-3)/(3-1)\n",
    "print(ci)"
   ]
  },
  {
   "cell_type": "code",
   "execution_count": 7,
   "metadata": {},
   "outputs": [
    {
     "name": "stdout",
     "output_type": "stream",
     "text": [
      "0.0048\n"
     ]
    }
   ],
   "source": [
    "#if n = 3 RI = 0.58\n",
    "#if n = 4 RI = 0.9\n",
    "ri = 0.58\n",
    "cr = ci/ri\n",
    "print('%.4f' %(cr))"
   ]
  },
  {
   "cell_type": "code",
   "execution_count": null,
   "metadata": {},
   "outputs": [],
   "source": []
  },
  {
   "cell_type": "code",
   "execution_count": null,
   "metadata": {},
   "outputs": [],
   "source": []
  }
 ],
 "metadata": {
  "kernelspec": {
   "display_name": ".venv",
   "language": "python",
   "name": "python3"
  },
  "language_info": {
   "codemirror_mode": {
    "name": "ipython",
    "version": 3
   },
   "file_extension": ".py",
   "mimetype": "text/x-python",
   "name": "python",
   "nbconvert_exporter": "python",
   "pygments_lexer": "ipython3",
   "version": "3.11.3"
  }
 },
 "nbformat": 4,
 "nbformat_minor": 2
}
